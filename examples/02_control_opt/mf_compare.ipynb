{
 "cells": [
  {
   "cell_type": "code",
   "execution_count": null,
   "metadata": {},
   "outputs": [],
   "source": [
    "# Print Max Rot Thrust\n",
    "\n",
    "# ax[0].plot(lin_del['omega'],lin_del['MaxGenSpeed'])\n",
    "# ax[1].plot(lin_del['omega'],lin_del['TwrBsMyt_DEL'])\n",
    "\n",
    "# ax[0].set_ylabel('Max Gen. Speed (rpm)')\n",
    "# ax[1].set_ylabel('Twr Bs. FA DEL (kNm)')\n",
    "\n",
    "\n",
    "# legs = ['Linearized Simulation','Nonlinear Simulation']\n",
    "\n",
    "# plt.legend(legs, loc='upper center', bbox_to_anchor=(\n",
    "#                         0.5, 2.5), borderaxespad=2, ncol=2)\n",
    "\n",
    "# plt.show()\n",
    "# fig_dir = '/Users/dzalkind/Projects/WEIS/Docs/Quarterly Slides'\n",
    "# fig.savefig(os.path.join(fig_dir,'mf_PC_sweep.png'),format='png')\n",
    "\n",
    "# ws\n",
    "# plt.show()\n",
    "\n",
    "# test_dir   = ['/Users/dzalkind/Tools/WEIS-3/results/UMaine-Fixed/DISCON_fixed_ps100/ntm',\n",
    "#               '/Users/dzalkind/Tools/WEIS-3/results/UMaine-Fixed/DISCON_fixed_ps080/ntm',\n",
    "#              '/Users/dzalkind/Tools/WEIS-3/results/UMaine-Fixed/DISCON_fixed_ps100_const_pwr/ntm']"
   ]
  }
 ],
 "metadata": {
  "kernelspec": {
   "display_name": "Python 3",
   "language": "python",
   "name": "python3"
  },
  "language_info": {
   "codemirror_mode": {
    "name": "ipython",
    "version": 3
   },
   "file_extension": ".py",
   "mimetype": "text/x-python",
   "name": "python",
   "nbconvert_exporter": "python",
   "pygments_lexer": "ipython3",
   "version": "3.8.3"
  }
 },
 "nbformat": 4,
 "nbformat_minor": 4
}
